{
 "cells": [
  {
   "cell_type": "markdown",
   "metadata": {},
   "source": [
    "%load_ext sql is a Jupyter Notebook magic command that loads in sql extension, which allows you the use of SQL within the Jupyter Notebook environment. "
   ]
  },
  {
   "cell_type": "code",
   "execution_count": 2,
   "metadata": {},
   "outputs": [],
   "source": [
    "%load_ext sql"
   ]
  },
  {
   "cell_type": "code",
   "execution_count": 33,
   "metadata": {},
   "outputs": [
    {
     "name": "stdout",
     "output_type": "stream",
     "text": [
      "Done.\n"
     ]
    },
    {
     "data": {
      "text/plain": [
       "[]"
      ]
     },
     "execution_count": 33,
     "metadata": {},
     "output_type": "execute_result"
    }
   ],
   "source": [
    "%%sql sqlite:///danny.db\n",
    "-- connect to the db which is a local file"
   ]
  },
  {
   "cell_type": "code",
   "execution_count": 26,
   "metadata": {},
   "outputs": [
    {
     "name": "stdout",
     "output_type": "stream",
     "text": [
      " * sqlite:///danny.db\n",
      "Done.\n"
     ]
    },
    {
     "data": {
      "text/html": [
       "<table>\n",
       "    <thead>\n",
       "        <tr>\n",
       "            <th>name</th>\n",
       "        </tr>\n",
       "    </thead>\n",
       "    <tbody>\n",
       "        <tr>\n",
       "            <td>sales</td>\n",
       "        </tr>\n",
       "        <tr>\n",
       "            <td>menu</td>\n",
       "        </tr>\n",
       "        <tr>\n",
       "            <td>members</td>\n",
       "        </tr>\n",
       "    </tbody>\n",
       "</table>"
      ],
      "text/plain": [
       "[('sales',), ('menu',), ('members',)]"
      ]
     },
     "execution_count": 26,
     "metadata": {},
     "output_type": "execute_result"
    }
   ],
   "source": [
    "%%sql \n",
    "-- view and confirm all tables have been loaded into the db\n",
    "SELECT name FROM sqlite_master WHERE type='table';"
   ]
  },
  {
   "cell_type": "markdown",
   "metadata": {},
   "source": [
    "### Case Study Questions"
   ]
  },
  {
   "cell_type": "markdown",
   "metadata": {},
   "source": [
    "1. What is the total amount each customer spent at the restaurant?"
   ]
  },
  {
   "cell_type": "code",
   "execution_count": 57,
   "metadata": {},
   "outputs": [
    {
     "name": "stdout",
     "output_type": "stream",
     "text": [
      " * sqlite:///danny.db\n",
      "Done.\n"
     ]
    },
    {
     "data": {
      "text/html": [
       "<table>\n",
       "    <thead>\n",
       "        <tr>\n",
       "            <th>customer_id</th>\n",
       "            <th>Amount</th>\n",
       "        </tr>\n",
       "    </thead>\n",
       "    <tbody>\n",
       "        <tr>\n",
       "            <td>A</td>\n",
       "            <td>76</td>\n",
       "        </tr>\n",
       "        <tr>\n",
       "            <td>B</td>\n",
       "            <td>74</td>\n",
       "        </tr>\n",
       "        <tr>\n",
       "            <td>C</td>\n",
       "            <td>36</td>\n",
       "        </tr>\n",
       "    </tbody>\n",
       "</table>"
      ],
      "text/plain": [
       "[('A', 76), ('B', 74), ('C', 36)]"
      ]
     },
     "execution_count": 57,
     "metadata": {},
     "output_type": "execute_result"
    }
   ],
   "source": [
    "%%sql\n",
    "SELECT customer_id,\n",
    "       sum(price) AS Amount\n",
    "  FROM menu m\n",
    "       JOIN\n",
    "       sales s ON m.product_id = s.product_id\n",
    " GROUP BY customer_id;"
   ]
  },
  {
   "cell_type": "markdown",
   "metadata": {},
   "source": [
    "2. How many days has each customer visited the restaurant?"
   ]
  },
  {
   "cell_type": "code",
   "execution_count": 58,
   "metadata": {},
   "outputs": [
    {
     "name": "stdout",
     "output_type": "stream",
     "text": [
      " * sqlite:///danny.db\n",
      "Done.\n"
     ]
    },
    {
     "data": {
      "text/html": [
       "<table>\n",
       "    <thead>\n",
       "        <tr>\n",
       "            <th>customer_id</th>\n",
       "            <th>visited</th>\n",
       "        </tr>\n",
       "    </thead>\n",
       "    <tbody>\n",
       "        <tr>\n",
       "            <td>A</td>\n",
       "            <td>4</td>\n",
       "        </tr>\n",
       "        <tr>\n",
       "            <td>B</td>\n",
       "            <td>6</td>\n",
       "        </tr>\n",
       "        <tr>\n",
       "            <td>C</td>\n",
       "            <td>2</td>\n",
       "        </tr>\n",
       "    </tbody>\n",
       "</table>"
      ],
      "text/plain": [
       "[('A', 4), ('B', 6), ('C', 2)]"
      ]
     },
     "execution_count": 58,
     "metadata": {},
     "output_type": "execute_result"
    }
   ],
   "source": [
    "%%sql\n",
    "SELECT customer_id,\n",
    "       count(DISTINCT (order_date) ) AS visited\n",
    "  FROM sales\n",
    " GROUP BY customer_id;"
   ]
  },
  {
   "cell_type": "markdown",
   "metadata": {},
   "source": [
    "3. What was the first item from the menu purchased by each customer?"
   ]
  },
  {
   "cell_type": "code",
   "execution_count": 63,
   "metadata": {},
   "outputs": [
    {
     "name": "stdout",
     "output_type": "stream",
     "text": [
      " * sqlite:///danny.db\n",
      "Done.\n"
     ]
    },
    {
     "data": {
      "text/html": [
       "<table>\n",
       "    <thead>\n",
       "        <tr>\n",
       "            <th>customer_id</th>\n",
       "            <th>first_item_purchased</th>\n",
       "        </tr>\n",
       "    </thead>\n",
       "    <tbody>\n",
       "        <tr>\n",
       "            <td>A</td>\n",
       "            <td>sushi</td>\n",
       "        </tr>\n",
       "        <tr>\n",
       "            <td>B</td>\n",
       "            <td>curry</td>\n",
       "        </tr>\n",
       "        <tr>\n",
       "            <td>C</td>\n",
       "            <td>ramen</td>\n",
       "        </tr>\n",
       "    </tbody>\n",
       "</table>"
      ],
      "text/plain": [
       "[('A', 'sushi'), ('B', 'curry'), ('C', 'ramen')]"
      ]
     },
     "execution_count": 63,
     "metadata": {},
     "output_type": "execute_result"
    }
   ],
   "source": [
    "%%sql\n",
    "SELECT customer_id,\n",
    "       first_value(m.product_name) OVER (PARTITION BY customer_id ORDER BY order_date) AS first_item_purchased\n",
    "  FROM sales s\n",
    "       JOIN\n",
    "       menu m ON s.product_id = m.product_id\n",
    " GROUP BY customer_id;\n"
   ]
  },
  {
   "cell_type": "markdown",
   "metadata": {},
   "source": [
    "4. What is the most purchased item on the menu and how many times was it purchased by all customers?"
   ]
  },
  {
   "cell_type": "code",
   "execution_count": 67,
   "metadata": {},
   "outputs": [
    {
     "name": "stdout",
     "output_type": "stream",
     "text": [
      " * sqlite:///danny.db\n",
      "Done.\n"
     ]
    },
    {
     "data": {
      "text/html": [
       "<table>\n",
       "    <thead>\n",
       "        <tr>\n",
       "            <th>product_name</th>\n",
       "            <th>most_purchased_item</th>\n",
       "        </tr>\n",
       "    </thead>\n",
       "    <tbody>\n",
       "        <tr>\n",
       "            <td>ramen</td>\n",
       "            <td>8</td>\n",
       "        </tr>\n",
       "    </tbody>\n",
       "</table>"
      ],
      "text/plain": [
       "[('ramen', 8)]"
      ]
     },
     "execution_count": 67,
     "metadata": {},
     "output_type": "execute_result"
    }
   ],
   "source": [
    "%%sql\n",
    "SELECT m.product_name,\n",
    "       count(*) AS most_purchased_item\n",
    "  FROM sales s\n",
    "       JOIN\n",
    "       menu m ON s.product_id = m.product_id\n",
    " GROUP BY m.product_name\n",
    " ORDER BY most_purchased_item DESC\n",
    " LIMIT 1;\n"
   ]
  },
  {
   "cell_type": "markdown",
   "metadata": {},
   "source": [
    "5. Which item was the most popular for each customer?"
   ]
  },
  {
   "cell_type": "code",
   "execution_count": 44,
   "metadata": {},
   "outputs": [
    {
     "name": "stdout",
     "output_type": "stream",
     "text": [
      " * sqlite:///danny.db\n",
      "Done.\n"
     ]
    },
    {
     "data": {
      "text/html": [
       "<table>\n",
       "    <thead>\n",
       "        <tr>\n",
       "            <th>customer_id</th>\n",
       "            <th>product_name</th>\n",
       "            <th>purchase_count</th>\n",
       "        </tr>\n",
       "    </thead>\n",
       "    <tbody>\n",
       "        <tr>\n",
       "            <td>A</td>\n",
       "            <td>ramen</td>\n",
       "            <td>3</td>\n",
       "        </tr>\n",
       "        <tr>\n",
       "            <td>B</td>\n",
       "            <td>sushi</td>\n",
       "            <td>2</td>\n",
       "        </tr>\n",
       "        <tr>\n",
       "            <td>C</td>\n",
       "            <td>ramen</td>\n",
       "            <td>3</td>\n",
       "        </tr>\n",
       "    </tbody>\n",
       "</table>"
      ],
      "text/plain": [
       "[('A', 'ramen', 3), ('B', 'sushi', 2), ('C', 'ramen', 3)]"
      ]
     },
     "execution_count": 44,
     "metadata": {},
     "output_type": "execute_result"
    }
   ],
   "source": [
    "%%sql\n",
    "WITH cte AS (\n",
    "    SELECT customer_id,\n",
    "           product_name,\n",
    "           COUNT( * ) AS purchase_count,\n",
    "           row_number() OVER (PARTITION BY customer_id ORDER BY COUNT( * ) DESC) AS rank\n",
    "      FROM sales\n",
    "           JOIN\n",
    "           menu USING (\n",
    "               product_id\n",
    "           )\n",
    "     GROUP BY customer_id,\n",
    "              product_name\n",
    ")\n",
    "SELECT customer_id,\n",
    "       product_name,\n",
    "       purchase_count\n",
    "  FROM cte\n",
    " WHERE rank = 1;"
   ]
  },
  {
   "cell_type": "markdown",
   "metadata": {},
   "source": [
    "6. Which item was purchased first by the customer after they became a member?"
   ]
  },
  {
   "cell_type": "code",
   "execution_count": 9,
   "metadata": {},
   "outputs": [
    {
     "name": "stdout",
     "output_type": "stream",
     "text": [
      " * sqlite:///danny.db\n",
      "Done.\n"
     ]
    },
    {
     "data": {
      "text/html": [
       "<table>\n",
       "    <thead>\n",
       "        <tr>\n",
       "            <th>customer_id</th>\n",
       "            <th>join_date</th>\n",
       "            <th>order_date</th>\n",
       "            <th>product_name</th>\n",
       "        </tr>\n",
       "    </thead>\n",
       "    <tbody>\n",
       "        <tr>\n",
       "            <td>A</td>\n",
       "            <td>2021-01-07</td>\n",
       "            <td>2021-01-07</td>\n",
       "            <td>curry</td>\n",
       "        </tr>\n",
       "        <tr>\n",
       "            <td>B</td>\n",
       "            <td>2021-01-09</td>\n",
       "            <td>2021-01-11</td>\n",
       "            <td>sushi</td>\n",
       "        </tr>\n",
       "    </tbody>\n",
       "</table>"
      ],
      "text/plain": [
       "[('A', '2021-01-07', '2021-01-07', 'curry'),\n",
       " ('B', '2021-01-09', '2021-01-11', 'sushi')]"
      ]
     },
     "execution_count": 9,
     "metadata": {},
     "output_type": "execute_result"
    }
   ],
   "source": [
    "%%sql\n",
    "WITH cte AS (\n",
    "    SELECT customer_id,\n",
    "           product_name,\n",
    "           order_date,\n",
    "           join_date,\n",
    "           row_number() OVER (PARTITION BY customer_id ORDER BY order_date) AS rank\n",
    "      FROM sales\n",
    "           JOIN\n",
    "           menu USING (\n",
    "               product_id\n",
    "           )\n",
    "           JOIN\n",
    "           members USING (\n",
    "               customer_id\n",
    "           )\n",
    "     WHERE order_date >= join_date\n",
    ")\n",
    "SELECT customer_id,\n",
    "       join_date,\n",
    "       order_date,\n",
    "       product_name\n",
    "  FROM cte\n",
    " WHERE rank = 1;\n"
   ]
  },
  {
   "cell_type": "markdown",
   "metadata": {},
   "source": [
    "7. Which item was purchased just before the customer became a member?"
   ]
  },
  {
   "cell_type": "code",
   "execution_count": 8,
   "metadata": {},
   "outputs": [
    {
     "name": "stdout",
     "output_type": "stream",
     "text": [
      " * sqlite:///danny.db\n",
      "Done.\n"
     ]
    },
    {
     "data": {
      "text/html": [
       "<table>\n",
       "    <thead>\n",
       "        <tr>\n",
       "            <th>customer_id</th>\n",
       "            <th>product_name</th>\n",
       "            <th>join_date</th>\n",
       "            <th>order_date</th>\n",
       "        </tr>\n",
       "    </thead>\n",
       "    <tbody>\n",
       "        <tr>\n",
       "            <td>A</td>\n",
       "            <td>sushi</td>\n",
       "            <td>2021-01-07</td>\n",
       "            <td>2021-01-01</td>\n",
       "        </tr>\n",
       "        <tr>\n",
       "            <td>B</td>\n",
       "            <td>sushi</td>\n",
       "            <td>2021-01-09</td>\n",
       "            <td>2021-01-04</td>\n",
       "        </tr>\n",
       "    </tbody>\n",
       "</table>"
      ],
      "text/plain": [
       "[('A', 'sushi', '2021-01-07', '2021-01-01'),\n",
       " ('B', 'sushi', '2021-01-09', '2021-01-04')]"
      ]
     },
     "execution_count": 8,
     "metadata": {},
     "output_type": "execute_result"
    }
   ],
   "source": [
    "%%sql\n",
    "WITH cte AS (\n",
    "    SELECT customer_id,\n",
    "           product_name,\n",
    "           join_date,\n",
    "           order_date,\n",
    "           row_number() OVER (PARTITION BY customer_id ORDER BY order_date DESC) AS rank\n",
    "      FROM sales\n",
    "           JOIN\n",
    "           menu USING (\n",
    "               product_id\n",
    "           )\n",
    "           JOIN\n",
    "           members USING (\n",
    "               customer_id\n",
    "           )\n",
    "     WHERE order_date < join_date\n",
    ")\n",
    "SELECT customer_id,\n",
    "       product_name,\n",
    "       join_date,\n",
    "       order_date\n",
    "  FROM cte\n",
    " WHERE rank = 1"
   ]
  },
  {
   "cell_type": "markdown",
   "metadata": {},
   "source": [
    "8. What is the total items and amount spent for each member before they became a member?"
   ]
  },
  {
   "cell_type": "code",
   "execution_count": 7,
   "metadata": {},
   "outputs": [
    {
     "name": "stdout",
     "output_type": "stream",
     "text": [
      " * sqlite:///danny.db\n",
      "Done.\n"
     ]
    },
    {
     "data": {
      "text/html": [
       "<table>\n",
       "    <thead>\n",
       "        <tr>\n",
       "            <th>customer_id</th>\n",
       "            <th>total_items</th>\n",
       "            <th>amount_spent</th>\n",
       "        </tr>\n",
       "    </thead>\n",
       "    <tbody>\n",
       "        <tr>\n",
       "            <td>B</td>\n",
       "            <td>3</td>\n",
       "            <td>40</td>\n",
       "        </tr>\n",
       "        <tr>\n",
       "            <td>A</td>\n",
       "            <td>2</td>\n",
       "            <td>25</td>\n",
       "        </tr>\n",
       "    </tbody>\n",
       "</table>"
      ],
      "text/plain": [
       "[('B', 3, 40), ('A', 2, 25)]"
      ]
     },
     "execution_count": 7,
     "metadata": {},
     "output_type": "execute_result"
    }
   ],
   "source": [
    "%%sql\n",
    "    SELECT customer_id,\n",
    "       count( * ) total_items,\n",
    "       sum(price) amount_spent\n",
    "  FROM sales\n",
    "       JOIN\n",
    "       menu USING (\n",
    "           product_id\n",
    "       )\n",
    "       JOIN\n",
    "       members USING (\n",
    "           customer_id\n",
    "       )\n",
    " WHERE order_date < join_date\n",
    " GROUP BY customer_id\n",
    " ORDER BY amount_spent DESC;\n"
   ]
  },
  {
   "cell_type": "markdown",
   "metadata": {},
   "source": [
    "9. If each $1 spent equates to 10 points and sushi has a 2x points multiplier - how many points would each customer have?"
   ]
  },
  {
   "cell_type": "code",
   "execution_count": 12,
   "metadata": {},
   "outputs": [
    {
     "name": "stdout",
     "output_type": "stream",
     "text": [
      " * sqlite:///danny.db\n",
      "Done.\n"
     ]
    },
    {
     "data": {
      "text/html": [
       "<table>\n",
       "    <thead>\n",
       "        <tr>\n",
       "            <th>customer_id</th>\n",
       "            <th>points</th>\n",
       "        </tr>\n",
       "    </thead>\n",
       "    <tbody>\n",
       "        <tr>\n",
       "            <td>A</td>\n",
       "            <td>860</td>\n",
       "        </tr>\n",
       "        <tr>\n",
       "            <td>B</td>\n",
       "            <td>940</td>\n",
       "        </tr>\n",
       "        <tr>\n",
       "            <td>C</td>\n",
       "            <td>360</td>\n",
       "        </tr>\n",
       "    </tbody>\n",
       "</table>"
      ],
      "text/plain": [
       "[('A', 860), ('B', 940), ('C', 360)]"
      ]
     },
     "execution_count": 12,
     "metadata": {},
     "output_type": "execute_result"
    }
   ],
   "source": [
    "%%sql\n",
    "WITH cte AS (\n",
    "    SELECT customer_id,\n",
    "           product_name,\n",
    "           CASE WHEN product_name = 'sushi' THEN price * 20 \n",
    "           ELSE price * 10 END AS points\n",
    "      FROM sales\n",
    "           JOIN\n",
    "           menu USING (\n",
    "               product_id\n",
    "           )\n",
    ")\n",
    "SELECT customer_id,\n",
    "       sum(points) AS points\n",
    "  FROM cte\n",
    " GROUP BY customer_id;\n"
   ]
  },
  {
   "cell_type": "markdown",
   "metadata": {},
   "source": [
    "10. In the first week after a customer joins the program (including their join date) they earn 2x points on all items, not just sushi - how many points do customer A and B have at the end of January?"
   ]
  },
  {
   "cell_type": "code",
   "execution_count": 46,
   "metadata": {},
   "outputs": [
    {
     "name": "stdout",
     "output_type": "stream",
     "text": [
      " * sqlite:///danny.db\n",
      "Done.\n"
     ]
    },
    {
     "data": {
      "text/html": [
       "<table>\n",
       "    <thead>\n",
       "        <tr>\n",
       "            <th>customer_id</th>\n",
       "            <th>total_points</th>\n",
       "        </tr>\n",
       "    </thead>\n",
       "    <tbody>\n",
       "        <tr>\n",
       "            <td>A</td>\n",
       "            <td>1270</td>\n",
       "        </tr>\n",
       "        <tr>\n",
       "            <td>B</td>\n",
       "            <td>720</td>\n",
       "        </tr>\n",
       "    </tbody>\n",
       "</table>"
      ],
      "text/plain": [
       "[('A', 1270), ('B', 720)]"
      ]
     },
     "execution_count": 46,
     "metadata": {},
     "output_type": "execute_result"
    }
   ],
   "source": [
    "%%sql\n",
    "WITH cte AS (\n",
    "    SELECT\n",
    "        customer_id,\n",
    "        order_date,\n",
    "        join_date,\n",
    "        product_name,\n",
    "        price,\n",
    "        CASE\n",
    "            WHEN order_date BETWEEN join_date and (select date(join_date,'+6 days')) THEN price * 20\n",
    "            --mysql altervative uses DATEADD instead of select date\n",
    "            When product_name = 'suchi' then price * 20\n",
    "            ELSE price * 10\n",
    "        END AS test\n",
    "    FROM\n",
    "        sales\n",
    "    JOIN\n",
    "        menu USING (product_id)\n",
    "    JOIN\n",
    "        members USING (customer_id)\n",
    ")\n",
    "\n",
    "SELECT\n",
    "    customer_id,\n",
    "    SUM(test) AS total_points\n",
    "FROM\n",
    "    cte\n",
    "WHERE\n",
    "    strftime('%m', order_date) = '01'\n",
    "    --alternate DATE_TRUNC('month', order_date) = '2021-01-01'\n",
    "GROUP BY\n",
    "    customer_id;\n"
   ]
  },
  {
   "cell_type": "markdown",
   "metadata": {},
   "source": [
    "Bonus Question1 - Joinig all the things"
   ]
  },
  {
   "cell_type": "code",
   "execution_count": 20,
   "metadata": {},
   "outputs": [
    {
     "name": "stdout",
     "output_type": "stream",
     "text": [
      " * sqlite:///danny.db\n",
      "Done.\n"
     ]
    },
    {
     "data": {
      "text/html": [
       "<table>\n",
       "    <thead>\n",
       "        <tr>\n",
       "            <th>customer_id</th>\n",
       "            <th>order_date</th>\n",
       "            <th>product_name</th>\n",
       "            <th>price</th>\n",
       "            <th>member</th>\n",
       "        </tr>\n",
       "    </thead>\n",
       "    <tbody>\n",
       "        <tr>\n",
       "            <td>A</td>\n",
       "            <td>2021-01-01</td>\n",
       "            <td>sushi</td>\n",
       "            <td>10</td>\n",
       "            <td>N</td>\n",
       "        </tr>\n",
       "        <tr>\n",
       "            <td>A</td>\n",
       "            <td>2021-01-01</td>\n",
       "            <td>curry</td>\n",
       "            <td>15</td>\n",
       "            <td>N</td>\n",
       "        </tr>\n",
       "        <tr>\n",
       "            <td>A</td>\n",
       "            <td>2021-01-07</td>\n",
       "            <td>curry</td>\n",
       "            <td>15</td>\n",
       "            <td>Y</td>\n",
       "        </tr>\n",
       "        <tr>\n",
       "            <td>A</td>\n",
       "            <td>2021-01-10</td>\n",
       "            <td>ramen</td>\n",
       "            <td>12</td>\n",
       "            <td>Y</td>\n",
       "        </tr>\n",
       "        <tr>\n",
       "            <td>A</td>\n",
       "            <td>2021-01-11</td>\n",
       "            <td>ramen</td>\n",
       "            <td>12</td>\n",
       "            <td>Y</td>\n",
       "        </tr>\n",
       "        <tr>\n",
       "            <td>A</td>\n",
       "            <td>2021-01-11</td>\n",
       "            <td>ramen</td>\n",
       "            <td>12</td>\n",
       "            <td>Y</td>\n",
       "        </tr>\n",
       "        <tr>\n",
       "            <td>B</td>\n",
       "            <td>2021-01-01</td>\n",
       "            <td>curry</td>\n",
       "            <td>15</td>\n",
       "            <td>N</td>\n",
       "        </tr>\n",
       "        <tr>\n",
       "            <td>B</td>\n",
       "            <td>2021-01-02</td>\n",
       "            <td>curry</td>\n",
       "            <td>15</td>\n",
       "            <td>N</td>\n",
       "        </tr>\n",
       "        <tr>\n",
       "            <td>B</td>\n",
       "            <td>2021-01-04</td>\n",
       "            <td>sushi</td>\n",
       "            <td>10</td>\n",
       "            <td>N</td>\n",
       "        </tr>\n",
       "        <tr>\n",
       "            <td>B</td>\n",
       "            <td>2021-01-11</td>\n",
       "            <td>sushi</td>\n",
       "            <td>10</td>\n",
       "            <td>Y</td>\n",
       "        </tr>\n",
       "        <tr>\n",
       "            <td>B</td>\n",
       "            <td>2021-01-16</td>\n",
       "            <td>ramen</td>\n",
       "            <td>12</td>\n",
       "            <td>Y</td>\n",
       "        </tr>\n",
       "        <tr>\n",
       "            <td>B</td>\n",
       "            <td>2021-02-01</td>\n",
       "            <td>ramen</td>\n",
       "            <td>12</td>\n",
       "            <td>Y</td>\n",
       "        </tr>\n",
       "        <tr>\n",
       "            <td>C</td>\n",
       "            <td>2021-01-01</td>\n",
       "            <td>ramen</td>\n",
       "            <td>12</td>\n",
       "            <td>N</td>\n",
       "        </tr>\n",
       "        <tr>\n",
       "            <td>C</td>\n",
       "            <td>2021-01-01</td>\n",
       "            <td>ramen</td>\n",
       "            <td>12</td>\n",
       "            <td>N</td>\n",
       "        </tr>\n",
       "        <tr>\n",
       "            <td>C</td>\n",
       "            <td>2021-01-07</td>\n",
       "            <td>ramen</td>\n",
       "            <td>12</td>\n",
       "            <td>N</td>\n",
       "        </tr>\n",
       "    </tbody>\n",
       "</table>"
      ],
      "text/plain": [
       "[('A', '2021-01-01', 'sushi', 10, 'N'),\n",
       " ('A', '2021-01-01', 'curry', 15, 'N'),\n",
       " ('A', '2021-01-07', 'curry', 15, 'Y'),\n",
       " ('A', '2021-01-10', 'ramen', 12, 'Y'),\n",
       " ('A', '2021-01-11', 'ramen', 12, 'Y'),\n",
       " ('A', '2021-01-11', 'ramen', 12, 'Y'),\n",
       " ('B', '2021-01-01', 'curry', 15, 'N'),\n",
       " ('B', '2021-01-02', 'curry', 15, 'N'),\n",
       " ('B', '2021-01-04', 'sushi', 10, 'N'),\n",
       " ('B', '2021-01-11', 'sushi', 10, 'Y'),\n",
       " ('B', '2021-01-16', 'ramen', 12, 'Y'),\n",
       " ('B', '2021-02-01', 'ramen', 12, 'Y'),\n",
       " ('C', '2021-01-01', 'ramen', 12, 'N'),\n",
       " ('C', '2021-01-01', 'ramen', 12, 'N'),\n",
       " ('C', '2021-01-07', 'ramen', 12, 'N')]"
      ]
     },
     "execution_count": 20,
     "metadata": {},
     "output_type": "execute_result"
    }
   ],
   "source": [
    "%%sql\n",
    "\n",
    "SELECT customer_id,\n",
    "       order_date,\n",
    "       product_name,\n",
    "       price,\n",
    "       CASE WHEN order_date >= join_date THEN 'Y' ELSE 'N' END AS member\n",
    "  FROM sales\n",
    "       LEFT JOIN\n",
    "       members USING (\n",
    "           customer_id\n",
    "       )\n",
    "       JOIN\n",
    "       menu USING (\n",
    "           product_id\n",
    "       );\n"
   ]
  },
  {
   "cell_type": "markdown",
   "metadata": {},
   "source": [
    "Bonus Question2 - Ranking all things"
   ]
  },
  {
   "cell_type": "code",
   "execution_count": 36,
   "metadata": {},
   "outputs": [
    {
     "name": "stdout",
     "output_type": "stream",
     "text": [
      " * sqlite:///danny.db\n",
      "Done.\n"
     ]
    },
    {
     "data": {
      "text/html": [
       "<table>\n",
       "    <thead>\n",
       "        <tr>\n",
       "            <th>customer_id</th>\n",
       "            <th>order_date</th>\n",
       "            <th>product_name</th>\n",
       "            <th>price</th>\n",
       "            <th>member</th>\n",
       "            <th>rank</th>\n",
       "        </tr>\n",
       "    </thead>\n",
       "    <tbody>\n",
       "        <tr>\n",
       "            <td>A</td>\n",
       "            <td>2021-01-01</td>\n",
       "            <td>sushi</td>\n",
       "            <td>10</td>\n",
       "            <td>N</td>\n",
       "            <td>NULL</td>\n",
       "        </tr>\n",
       "        <tr>\n",
       "            <td>A</td>\n",
       "            <td>2021-01-01</td>\n",
       "            <td>curry</td>\n",
       "            <td>15</td>\n",
       "            <td>N</td>\n",
       "            <td>NULL</td>\n",
       "        </tr>\n",
       "        <tr>\n",
       "            <td>A</td>\n",
       "            <td>2021-01-07</td>\n",
       "            <td>curry</td>\n",
       "            <td>15</td>\n",
       "            <td>Y</td>\n",
       "            <td>1</td>\n",
       "        </tr>\n",
       "        <tr>\n",
       "            <td>A</td>\n",
       "            <td>2021-01-10</td>\n",
       "            <td>ramen</td>\n",
       "            <td>12</td>\n",
       "            <td>Y</td>\n",
       "            <td>2</td>\n",
       "        </tr>\n",
       "        <tr>\n",
       "            <td>A</td>\n",
       "            <td>2021-01-11</td>\n",
       "            <td>ramen</td>\n",
       "            <td>12</td>\n",
       "            <td>Y</td>\n",
       "            <td>3</td>\n",
       "        </tr>\n",
       "        <tr>\n",
       "            <td>A</td>\n",
       "            <td>2021-01-11</td>\n",
       "            <td>ramen</td>\n",
       "            <td>12</td>\n",
       "            <td>Y</td>\n",
       "            <td>3</td>\n",
       "        </tr>\n",
       "        <tr>\n",
       "            <td>B</td>\n",
       "            <td>2021-01-01</td>\n",
       "            <td>curry</td>\n",
       "            <td>15</td>\n",
       "            <td>N</td>\n",
       "            <td>NULL</td>\n",
       "        </tr>\n",
       "        <tr>\n",
       "            <td>B</td>\n",
       "            <td>2021-01-02</td>\n",
       "            <td>curry</td>\n",
       "            <td>15</td>\n",
       "            <td>N</td>\n",
       "            <td>NULL</td>\n",
       "        </tr>\n",
       "        <tr>\n",
       "            <td>B</td>\n",
       "            <td>2021-01-04</td>\n",
       "            <td>sushi</td>\n",
       "            <td>10</td>\n",
       "            <td>N</td>\n",
       "            <td>NULL</td>\n",
       "        </tr>\n",
       "        <tr>\n",
       "            <td>B</td>\n",
       "            <td>2021-01-11</td>\n",
       "            <td>sushi</td>\n",
       "            <td>10</td>\n",
       "            <td>Y</td>\n",
       "            <td>1</td>\n",
       "        </tr>\n",
       "        <tr>\n",
       "            <td>B</td>\n",
       "            <td>2021-01-16</td>\n",
       "            <td>ramen</td>\n",
       "            <td>12</td>\n",
       "            <td>Y</td>\n",
       "            <td>2</td>\n",
       "        </tr>\n",
       "        <tr>\n",
       "            <td>B</td>\n",
       "            <td>2021-02-01</td>\n",
       "            <td>ramen</td>\n",
       "            <td>12</td>\n",
       "            <td>Y</td>\n",
       "            <td>3</td>\n",
       "        </tr>\n",
       "        <tr>\n",
       "            <td>C</td>\n",
       "            <td>2021-01-01</td>\n",
       "            <td>ramen</td>\n",
       "            <td>12</td>\n",
       "            <td>N</td>\n",
       "            <td>NULL</td>\n",
       "        </tr>\n",
       "        <tr>\n",
       "            <td>C</td>\n",
       "            <td>2021-01-01</td>\n",
       "            <td>ramen</td>\n",
       "            <td>12</td>\n",
       "            <td>N</td>\n",
       "            <td>NULL</td>\n",
       "        </tr>\n",
       "        <tr>\n",
       "            <td>C</td>\n",
       "            <td>2021-01-07</td>\n",
       "            <td>ramen</td>\n",
       "            <td>12</td>\n",
       "            <td>N</td>\n",
       "            <td>NULL</td>\n",
       "        </tr>\n",
       "    </tbody>\n",
       "</table>"
      ],
      "text/plain": [
       "[('A', '2021-01-01', 'sushi', 10, 'N', 'NULL'),\n",
       " ('A', '2021-01-01', 'curry', 15, 'N', 'NULL'),\n",
       " ('A', '2021-01-07', 'curry', 15, 'Y', 1),\n",
       " ('A', '2021-01-10', 'ramen', 12, 'Y', 2),\n",
       " ('A', '2021-01-11', 'ramen', 12, 'Y', 3),\n",
       " ('A', '2021-01-11', 'ramen', 12, 'Y', 3),\n",
       " ('B', '2021-01-01', 'curry', 15, 'N', 'NULL'),\n",
       " ('B', '2021-01-02', 'curry', 15, 'N', 'NULL'),\n",
       " ('B', '2021-01-04', 'sushi', 10, 'N', 'NULL'),\n",
       " ('B', '2021-01-11', 'sushi', 10, 'Y', 1),\n",
       " ('B', '2021-01-16', 'ramen', 12, 'Y', 2),\n",
       " ('B', '2021-02-01', 'ramen', 12, 'Y', 3),\n",
       " ('C', '2021-01-01', 'ramen', 12, 'N', 'NULL'),\n",
       " ('C', '2021-01-01', 'ramen', 12, 'N', 'NULL'),\n",
       " ('C', '2021-01-07', 'ramen', 12, 'N', 'NULL')]"
      ]
     },
     "execution_count": 36,
     "metadata": {},
     "output_type": "execute_result"
    }
   ],
   "source": [
    "%%sql\n",
    "WITH cte AS (\n",
    "    SELECT customer_id,\n",
    "           order_date,\n",
    "           product_name,\n",
    "           price,\n",
    "           CASE WHEN order_date >= join_date THEN 'Y' ELSE 'N' END AS member\n",
    "      FROM sales\n",
    "           LEFT JOIN\n",
    "           members USING (\n",
    "               customer_id\n",
    "           )\n",
    "           JOIN\n",
    "           menu USING (\n",
    "               product_id\n",
    "           )\n",
    ")\n",
    "SELECT *,\n",
    "       CASE WHEN member = 'Y' THEN dense_rank() OVER (PARTITION BY customer_id,\n",
    "           member ORDER BY order_date) ELSE 'NULL' END AS rank \n",
    "           \n",
    "           -- Did you know you can partition on two columns?\n",
    "  FROM cte;\n"
   ]
  },
  {
   "cell_type": "markdown",
   "metadata": {},
   "source": [
    "This brings us to the end of CASE STUDY 1. See you in the next."
   ]
  }
 ],
 "metadata": {
  "kernelspec": {
   "display_name": "Python 3",
   "language": "python",
   "name": "python3"
  },
  "language_info": {
   "codemirror_mode": {
    "name": "ipython",
    "version": 3
   },
   "file_extension": ".py",
   "mimetype": "text/x-python",
   "name": "python",
   "nbconvert_exporter": "python",
   "pygments_lexer": "ipython3",
   "version": "3.11.5"
  },
  "orig_nbformat": 4
 },
 "nbformat": 4,
 "nbformat_minor": 2
}
